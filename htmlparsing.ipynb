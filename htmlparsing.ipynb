{
 "cells": [
  {
   "cell_type": "code",
   "execution_count": 5,
   "metadata": {
    "collapsed": true
   },
   "outputs": [],
   "source": [
    "import requests\n",
    "import re\n",
    "from bs4 import BeautifulSoup"
   ]
  },
  {
   "cell_type": "code",
   "execution_count": 7,
   "metadata": {},
   "outputs": [],
   "source": [
    "result = []\n",
    "for i in range(1,566):\n",
    "    url = 'http://xn--80aicbidd2apldmjyp6k.xn--p1ai/page/' + str(i) \n",
    "    r = requests.get(url)\n",
    "    for search_url in re.findall('<h2><a href=\"(.*)\"', r.text):\n",
    "        result.append(search_url)"
   ]
  },
  {
   "cell_type": "code",
   "execution_count": 8,
   "metadata": {
    "collapsed": true
   },
   "outputs": [],
   "source": [
    "import xlsxwriter\n",
    "from random import randrange"
   ]
  },
  {
   "cell_type": "code",
   "execution_count": 13,
   "metadata": {},
   "outputs": [],
   "source": [
    "import tqdm"
   ]
  },
  {
   "cell_type": "code",
   "execution_count": 17,
   "metadata": {},
   "outputs": [
    {
     "data": {
      "application/vnd.jupyter.widget-view+json": {
       "model_id": "0480992e79d64daf93b682881b96d412",
       "version_major": 2,
       "version_minor": 0
      },
      "text/plain": [
       "A Jupyter Widget"
      ]
     },
     "metadata": {},
     "output_type": "display_data"
    },
    {
     "name": "stderr",
     "output_type": "stream",
     "text": [
      "/Users/dianaborisova/anaconda2/lib/python2.7/site-packages/xlsxwriter/worksheet.py:830: UserWarning: Ignoring URL 'http://woman-russia.ru/1009032/' with link or location/anchor > 255 characters since it exceeds Excel's limit for URLS\n",
      "  force_unicode(url))\n"
     ]
    },
    {
     "name": "stdout",
     "output_type": "stream",
     "text": [
      "\n"
     ]
    }
   ],
   "source": [
    "workbook = xlsxwriter.Workbook('dataset.xlsx')\n",
    "worksheet = workbook.add_worksheet()\n",
    "worksheet.set_column('A:A', 200)\n",
    "try:\n",
    "    i=0\n",
    "    for url in tqdm.tqdm_notebook(result): \n",
    "        i+=1\n",
    "        r = requests.get(url)\n",
    "        soup=BeautifulSoup(r.text)\n",
    "        l=soup.find('div',{'class':'main_text mb30'})\n",
    "        if l is not None and l.text is not None:\n",
    "            text=l.text.encode('utf-8').split('Схожие обращения:')[0].strip('\\n')\n",
    "            code=url.split('http://xn--80aicbidd2apldmjyp6k.xn--p1ai/')[1].split('/')[0]\n",
    "            worksheet.write('A'+str(i), text.decode('utf8'))\n",
    "            worksheet.write('B'+str(i), code.decode('utf8'))\n",
    "finally:\n",
    "    workbook.close()"
   ]
  },
  {
   "cell_type": "code",
   "execution_count": null,
   "metadata": {
    "collapsed": true
   },
   "outputs": [],
   "source": []
  }
 ],
 "metadata": {
  "kernelspec": {
   "display_name": "Python 2",
   "language": "python",
   "name": "python2"
  },
  "language_info": {
   "codemirror_mode": {
    "name": "ipython",
    "version": 2
   },
   "file_extension": ".py",
   "mimetype": "text/x-python",
   "name": "python",
   "nbconvert_exporter": "python",
   "pygments_lexer": "ipython2",
   "version": "2.7.14"
  }
 },
 "nbformat": 4,
 "nbformat_minor": 2
}
