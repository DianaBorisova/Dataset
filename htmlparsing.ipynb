{
 "cells": [
  {
   "cell_type": "code",
   "execution_count": 73,
   "metadata": {
    "collapsed": true
   },
   "outputs": [],
   "source": [
    "import requests\n",
    "import re\n",
    "from bs4 import BeautifulSoup"
   ]
  },
  {
   "cell_type": "code",
   "execution_count": 74,
   "metadata": {
    "collapsed": true
   },
   "outputs": [],
   "source": [
    "result = []\n",
    "for i in range(1,566):\n",
    "    url = 'http://xn--80aicbidd2apldmjyp6k.xn--p1ai/page/' + str(i) \n",
    "    r = requests.get(url)\n",
    "    for search_url in re.findall('<h2><a href=\"(.*)\"', r.text):\n",
    "        result.append(search_url)"
   ]
  },
  {
   "cell_type": "code",
   "execution_count": 75,
   "metadata": {
    "collapsed": true
   },
   "outputs": [],
   "source": [
    "import xlsxwriter\n",
    "from random import randrange"
   ]
  },
  {
   "cell_type": "code",
   "execution_count": null,
   "metadata": {
    "collapsed": true
   },
   "outputs": [],
   "source": [
    "workbook = xlsxwriter.Workbook('dataset.xlsx')\n",
    "worksheet = workbook.add_worksheet()\n",
    "worksheet.set_column('A:A', 200)\n",
    "try:\n",
    "    i=0\n",
    "    for url in result: \n",
    "        i+=1\n",
    "        r = requests.get(url)\n",
    "        soup=BeautifulSoup(r.text)\n",
    "        l=soup.find('div',{'class':'main_text mb30'})\n",
    "        if l is not None and l.text is not None:\n",
    "            text=l.text.encode('utf-8').split('Схожие обращения:')[0].strip('\\n')\n",
    "            worksheet.write('A'+str(i), text.decode('utf8'))\n",
    "            worksheet.write('B'+str(i), randrange(1,151))\n",
    "finally:\n",
    "    workbook.close()"
   ]
  }
 ],
 "metadata": {
  "kernelspec": {
   "display_name": "Python 2",
   "language": "python",
   "name": "python2"
  },
  "language_info": {
   "codemirror_mode": {
    "name": "ipython",
    "version": 2
   },
   "file_extension": ".py",
   "mimetype": "text/x-python",
   "name": "python",
   "nbconvert_exporter": "python",
   "pygments_lexer": "ipython2",
   "version": "2.7.14"
  }
 },
 "nbformat": 4,
 "nbformat_minor": 2
}
